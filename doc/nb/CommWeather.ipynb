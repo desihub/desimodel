{
 "cells": [
  {
   "cell_type": "markdown",
   "metadata": {},
   "source": [
    "# DESI Commissioning Weather Analysis"
   ]
  },
  {
   "cell_type": "code",
   "execution_count": 1,
   "metadata": {},
   "outputs": [
    {
     "name": "stdout",
     "output_type": "stream",
     "text": [
      "Populating the interactive namespace from numpy and matplotlib\n"
     ]
    }
   ],
   "source": [
    "%pylab inline"
   ]
  },
  {
   "cell_type": "code",
   "execution_count": 2,
   "metadata": {},
   "outputs": [],
   "source": [
    "import datetime"
   ]
  },
  {
   "cell_type": "code",
   "execution_count": 3,
   "metadata": {},
   "outputs": [],
   "source": [
    "import pandas as pd"
   ]
  },
  {
   "cell_type": "code",
   "execution_count": 4,
   "metadata": {},
   "outputs": [],
   "source": [
    "import desimodel.weather"
   ]
  },
  {
   "cell_type": "markdown",
   "metadata": {},
   "source": [
    "## Dome Closed Fraction"
   ]
  },
  {
   "cell_type": "markdown",
   "metadata": {},
   "source": [
    "Import [this spreadsheet](https://docs.google.com/spreadsheets/d/19a4i_ffxD9saup1O3-DJFDhqbS675JBMIp1QT7NQVXg/edit?usp=sharing) exported as a csv file:"
   ]
  },
  {
   "cell_type": "code",
   "execution_count": 5,
   "metadata": {},
   "outputs": [],
   "source": [
    "actual = pd.read_csv('DomeClosedCI.csv')"
   ]
  },
  {
   "cell_type": "code",
   "execution_count": 6,
   "metadata": {},
   "outputs": [
    {
     "name": "stdout",
     "output_type": "stream",
     "text": [
      "Actual mean is 17.4%\n",
      "Model mean is 16.4%\n",
      "Worst year is 2009 with 23.5%\n",
      "Best year is 2008 with 6.3%\n"
     ]
    },
    {
     "data": {
      "image/png": "[encoded data removed]",
      "text/plain": [
       "<Figure size 720x288 with 2 Axes>"
      ]
     },
     "metadata": {},
     "output_type": "display_data"
    }
   ],
   "source": [
    "def plot_dome(df=actual):\n",
    "    # Extract the actual weather history.\n",
    "    actual_frac = df['Closed Frac']\n",
    "    nights = pd.to_datetime(df['NIGHT'])\n",
    "    first, last = nights.iloc[0].date(), nights.iloc[-1].date()\n",
    "    dt = np.array([(night.date() - first).days for night in nights])\n",
    "    last += datetime.timedelta(days=1)\n",
    "    nnights = dt[-1] + 1\n",
    "    assert nnights == (last - first).days\n",
    "    print(f'Actual mean is {100 * actual_frac.mean():.1f}%')\n",
    "    \n",
    "    # Calculate the predicted dome-closed fraction for the nights of the CI run.\n",
    "    cirun = np.zeros(nnights, bool)\n",
    "    cirun[dt] = True\n",
    "    nyears = 11\n",
    "    model_frac = np.empty(nyears)\n",
    "    years = range(2007, 2018)\n",
    "    for i, year in enumerate(years):\n",
    "        closed = desimodel.weather.dome_closed_fractions(first, last, replay='Y{}'.format(year))\n",
    "        model_frac[i] = np.mean(closed[cirun])\n",
    "    ilo, ihi = np.argmin(model_frac), np.argmax(model_frac)\n",
    "    print(f'Model mean is {100 * model_frac.mean():.1f}%')\n",
    "    print(f'Worst year is {years[ihi]} with {100 * model_frac[ihi]:.1f}%')\n",
    "    print(f'Best year is {years[ilo]} with {100 * model_frac[ilo]:.1f}%')\n",
    "    \n",
    "    # Plot the actual and predicted dome-closed fraction.\n",
    "    fig, ax = plt.subplots(1, 2, figsize=(10, 4))\n",
    "    \n",
    "    ax[0].axhspan(model_frac[ilo], model_frac[ihi], color='b', alpha=0.2)\n",
    "    ax[0].axhline(model_frac[ihi], label=f'Worst={years[ihi]}', ls=':', c='b')\n",
    "    ax[0].axhline(np.median(model_frac), label='Median 2007-17', c='b')\n",
    "    ax[0].axhline(model_frac[ilo], label=f'Best={years[ilo]}', ls=':', c='b')\n",
    "    ax[0].scatter(dt, actual_frac, c='r', lw=0, label='CI Nightly')\n",
    "    ax[0].set_xlim(0, nnights)\n",
    "    ax[0].set_ylim(-0.01, 1.01)\n",
    "    ax[0].set_xlabel('Nights since 20190401')\n",
    "    ax[0].set_ylabel('Dome Closed Fraction')\n",
    "    ax[0].axhline(actual_frac.mean(), c='r', ls='--', label='CI Mean')\n",
    "    ax[0].legend(loc='center left', ncol=2)\n",
    "\n",
    "    ax[1].axvline(actual_frac.mean(), c='r', ls='--', label='CI Mean')\n",
    "    ax[1].hist(model_frac, bins=np.linspace(0, 0.3, 9), histtype='stepfilled', alpha=0.2, color='b', label='2007-17')\n",
    "    ax[1].axvline(model_frac.mean(), c='b', ls='-', label='Model Mean')\n",
    "    ax[1].set_yticks([])\n",
    "    ax[1].legend()\n",
    "    ax[1].set_xlim(0., 0.3)\n",
    "    ax[1].set_xlabel('Dome Closed Fraction')\n",
    "    \n",
    "    plt.tight_layout()\n",
    "    plt.savefig('CIdome.pdf')\n",
    "    \n",
    "plot_dome()"
   ]
  }
 ],
 "metadata": {
  "kernelspec": {
   "display_name": "Python [conda env:DESI]",
   "language": "python",
   "name": "conda-env-DESI-py"
  },
  "language_info": {
   "codemirror_mode": {
    "name": "ipython",
    "version": 3
   },
   "file_extension": ".py",
   "mimetype": "text/x-python",
   "name": "python",
   "nbconvert_exporter": "python",
   "pygments_lexer": "ipython3",
   "version": "3.6.7"
  }
 },
 "nbformat": 4,
 "nbformat_minor": 2
}
